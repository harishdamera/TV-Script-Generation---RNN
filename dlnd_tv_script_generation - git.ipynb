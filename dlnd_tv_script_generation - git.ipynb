{
 "cells": [
  {
   "cell_type": "markdown",
   "metadata": {},
   "source": [
    "# TV Script Generation\n",
    "Generating own [Simpsons](https://en.wikipedia.org/wiki/The_Simpsons) TV scripts using RNNs, using part of the [Simpsons dataset](https://www.kaggle.com/wcukierski/the-simpsons-by-the-data) of scripts from 27 seasons.  The Neural Network built will generate a new TV script for a scene at [Moe's Tavern](https://simpsonswiki.com/wiki/Moe's_Tavern)."
   ]
  },
  {
   "cell_type": "code",
   "execution_count": 1,
   "metadata": {
    "collapsed": true
   },
   "outputs": [],
   "source": [
    "import helper\n",
    "\n",
    "data_dir = './data/simpsons/moes_tavern_lines.txt'\n",
    "text = helper.load_data(data_dir)\n",
    "text = text[81:]"
   ]
  },
  {
   "cell_type": "markdown",
   "metadata": {},
   "source": [
    "## Explore the Data\n"
   ]
  },
  {
   "cell_type": "code",
   "execution_count": 3,
   "metadata": {},
   "outputs": [
    {
     "name": "stdout",
     "output_type": "stream",
     "text": [
      "Dataset Stats\n",
      "Roughly the number of unique words: 11492\n",
      "Number of scenes: 262\n",
      "Average number of sentences in each scene: 15.251908396946565\n",
      "Number of lines: 4258\n",
      "Average number of words in each line: 11.50164396430249\n",
      "\n",
      "The sentences 0 to 10:\n",
      "\n",
      "Moe_Szyslak: (INTO PHONE) Moe's Tavern. Where the elite meet to drink.\n",
      "Bart_Simpson: Eh, yeah, hello, is Mike there? Last name, Rotch.\n",
      "Moe_Szyslak: (INTO PHONE) Hold on, I'll check. (TO BARFLIES) Mike Rotch. Mike Rotch. Hey, has anybody seen Mike Rotch, lately?\n",
      "Moe_Szyslak: (INTO PHONE) Listen you little puke. One of these days I'm gonna catch you, and I'm gonna carve my name on your back with an ice pick.\n",
      "Moe_Szyslak: What's the matter Homer? You're not your normal effervescent self.\n",
      "Homer_Simpson: I got my problems, Moe. Give me another one.\n",
      "Moe_Szyslak: Homer, hey, you should not drink to forget your problems.\n",
      "Barney_Gumble: Yeah, you should only drink to enhance your social skills.\n",
      "\n"
     ]
    }
   ],
   "source": [
    "view_sentence_range = (0, 10)\n",
    "\n",
    "import numpy as np\n",
    "\n",
    "print('Dataset Stats')\n",
    "print('Roughly the number of unique words: {}'.format(len({word: None for word in text.split()})))\n",
    "scenes = text.split('\\n\\n')\n",
    "print('Number of scenes: {}'.format(len(scenes)))\n",
    "sentence_count_scene = [scene.count('\\n') for scene in scenes]\n",
    "print('Average number of sentences in each scene: {}'.format(np.average(sentence_count_scene)))\n",
    "\n",
    "sentences = [sentence for scene in scenes for sentence in scene.split('\\n')]\n",
    "print('Number of lines: {}'.format(len(sentences)))\n",
    "word_count_sentence = [len(sentence.split()) for sentence in sentences]\n",
    "print('Average number of words in each line: {}'.format(np.average(word_count_sentence)))\n",
    "\n",
    "print()\n",
    "print('The sentences {} to {}:'.format(*view_sentence_range))\n",
    "print('\\n'.join(text.split('\\n')[view_sentence_range[0]:view_sentence_range[1]]))"
   ]
  },
  {
   "cell_type": "markdown",
   "metadata": {},
   "source": [
    "## Implementing Preprocessing Functions\n",
    "\n",
    "### Lookup Table\n"
   ]
  },
  {
   "cell_type": "code",
   "execution_count": 4,
   "metadata": {},
   "outputs": [],
   "source": [
    "import numpy as np\n",
    "\n",
    "def create_lookup_tables(text):\n",
    "    vocab_to_int={word:index for index, word in enumerate(set(text))}\n",
    "    int_to_vocab={index:word for word,index in vocab_to_int.items()}\n",
    "\n",
    "    return vocab_to_int, int_to_vocab"
   ]
  },
  {
   "cell_type": "markdown",
   "metadata": {},
   "source": [
    "### Tokenize Punctuation"
   ]
  },
  {
   "cell_type": "code",
   "execution_count": 5,
   "metadata": {
    "collapsed": true
   },
   "outputs": [],
   "source": [
    "def token_lookup():\n",
    "\n",
    "    dict= { '.': '||Period||',\n",
    "             ',': '||Comma||',\n",
    "             '\"': '||Quotation_Mark||',\n",
    "             ';': '||Semicolon||',\n",
    "             '!': '||Exclamation_Mark||',\n",
    "             '?': '||Question_Mark||',\n",
    "             '(': '||Left_Parentheses||',\n",
    "             ')': '||Right_Parentheses||',\n",
    "             '--':'||Dash||',\n",
    "             '\\n':'||Return||'\n",
    "           }\n",
    "    return dict"
   ]
  },
  {
   "cell_type": "code",
   "execution_count": 6,
   "metadata": {
    "collapsed": true
   },
   "outputs": [],
   "source": [
    "# Preprocess Training, Validation, and Testing Data\n",
    "helper.preprocess_and_save_data(data_dir, token_lookup, create_lookup_tables)"
   ]
  },
  {
   "cell_type": "code",
   "execution_count": 7,
   "metadata": {
    "collapsed": true
   },
   "outputs": [],
   "source": [
    "\n",
    "import helper\n",
    "import numpy as np\n",
    "int_text, vocab_to_int, int_to_vocab, token_dict = helper.load_preprocess()"
   ]
  },
  {
   "cell_type": "markdown",
   "metadata": {},
   "source": [
    "## Build the Neural Network\n"
   ]
  },
  {
   "cell_type": "code",
   "execution_count": 8,
   "metadata": {},
   "outputs": [],
   "source": [
    "def get_inputs():\n",
    "    Input=tf.placeholder(shape=[None, None],dtype=tf.int32, name='input')\n",
    "    Targets=tf.placeholder(shape=[None, None],dtype=tf.int32, name='target')\n",
    "    LearningRate=tf.placeholder(dtype=tf.float32,name='learning_rate')\n",
    "    return Input, Targets, LearningRate"
   ]
  },
  {
   "cell_type": "markdown",
   "metadata": {},
   "source": [
    "### Build RNN Cell"
   ]
  },
  {
   "cell_type": "code",
   "execution_count": 9,
   "metadata": {},
   "outputs": [],
   "source": [
    "def get_init_cell(batch_size, rnn_size,keep_prob=0.5,rnn_layers=1):\n",
    "    #LSTM cell\n",
    "    lstm=tf.contrib.rnn.BasicLSTMCell(rnn_size)\n",
    "    #Dropout\n",
    "    drop=tf.contrib.rnn.DropoutWrapper(lstm,output_keep_prob=keep_prob)\n",
    "    #Multiple LSTM layers\n",
    "    cell=tf.contrib.rnn.MultiRNNCell([drop]*rnn_layers)\n",
    "    #initial state\n",
    "    initial_state=tf.identity(cell.zero_state(batch_size,tf.float32),name='initial_state')\n",
    "    return cell, initial_state"
   ]
  },
  {
   "cell_type": "markdown",
   "metadata": {},
   "source": [
    "### Word Embedding"
   ]
  },
  {
   "cell_type": "code",
   "execution_count": 10,
   "metadata": {},
   "outputs": [],
   "source": [
    "def get_embed(input_data, vocab_size, embed_dim):\n",
    "    embedding=tf.Variable(tf.random_uniform([vocab_size,embed_dim],-1,1))\n",
    "    embed=tf.nn.embedding_lookup(embedding, input_data)\n",
    "    return embed"
   ]
  },
  {
   "cell_type": "markdown",
   "metadata": {},
   "source": [
    "### Build RNN"
   ]
  },
  {
   "cell_type": "code",
   "execution_count": 11,
   "metadata": {},
   "outputs": [],
   "source": [
    "def build_rnn(cell, inputs):\n",
    "    outputs,final_state=tf.nn.dynamic_rnn(cell,inputs,dtype=tf.float32)\n",
    "    return outputs, tf.identity(final_state,name='final_state')"
   ]
  },
  {
   "cell_type": "markdown",
   "metadata": {},
   "source": [
    "### Build the Neural Network"
   ]
  },
  {
   "cell_type": "code",
   "execution_count": 12,
   "metadata": {},
   "outputs": [],
   "source": [
    "def build_nn(cell, rnn_size, input_data, vocab_size, embed_dim):\n",
    "    embed=get_embed(input_data,vocab_size,embed_dim)\n",
    "    outputs,final_state=build_rnn(cell,embed)\n",
    "    predictions=tf.contrib.layers.fully_connected(outputs,vocab_size,activation_fn=None)\n",
    "    return predictions, final_state"
   ]
  },
  {
   "cell_type": "code",
   "execution_count": 13,
   "metadata": {},
   "outputs": [],
   "source": [
    "def get_batches(int_text, batch_size, seq_length):\n",
    "\n",
    "    #Calculating number of full batches\n",
    "    n_batches=int(len(int_text)/(batch_size*seq_length))\n",
    "    \n",
    "    #discarding batches which wont be full\n",
    "    x=np.array(int_text[:n_batches*batch_size*seq_length])\n",
    "    y=np.array(int_text[1:n_batches*batch_size*seq_length+1])\n",
    "    y[-1]=x[0]\n",
    "    \n",
    "    #shape into batches\n",
    "    x_batches=np.split(x.reshape(batch_size,-1),n_batches,1)\n",
    "    y_batches=np.split(y.reshape(batch_size,-1),n_batches,1)\n",
    "    \n",
    "    return np.array(list(zip(x_batches,y_batches)))"
   ]
  },
  {
   "cell_type": "markdown",
   "metadata": {},
   "source": [
    "## Neural Network Training\n",
    "### Hyperparameters"
   ]
  },
  {
   "cell_type": "code",
   "execution_count": 14,
   "metadata": {
    "collapsed": true
   },
   "outputs": [],
   "source": [
    "# Number of Epochs\n",
    "num_epochs = 50\n",
    "# Batch Size\n",
    "batch_size = 512\n",
    "# RNN Size\n",
    "rnn_size = 512\n",
    "# Embedding Dimension Size\n",
    "embed_dim = 256\n",
    "# Sequence Length\n",
    "seq_length = 10\n",
    "# Learning Rate\n",
    "learning_rate = 0.01\n",
    "# Show stats for every n number of batches\n",
    "show_every_n_batches = 25"
   ]
  },
  {
   "cell_type": "markdown",
   "metadata": {},
   "source": [
    "## Train"
   ]
  },
  {
   "cell_type": "code",
   "execution_count": 43,
   "metadata": {},
   "outputs": [
    {
     "name": "stdout",
     "output_type": "stream",
     "text": [
      "Epoch   0 Batch    0/13   train_loss = 8.822\n",
      "Epoch   0 Batch    2/13   train_loss = 6.803\n",
      "Epoch   0 Batch    4/13   train_loss = 6.167\n",
      "Epoch   0 Batch    6/13   train_loss = 6.038\n",
      "Epoch   0 Batch    8/13   train_loss = 5.874\n",
      "Epoch   0 Batch   10/13   train_loss = 5.593\n",
      "Epoch   0 Batch   12/13   train_loss = 5.598\n",
      "Epoch   1 Batch    1/13   train_loss = 5.320\n",
      "Epoch   1 Batch    3/13   train_loss = 5.207\n",
      "Epoch   1 Batch    5/13   train_loss = 5.145\n",
      "Epoch   1 Batch    7/13   train_loss = 5.082\n",
      "Epoch   1 Batch    9/13   train_loss = 4.987\n",
      "Epoch   1 Batch   11/13   train_loss = 4.991\n",
      "Epoch   2 Batch    0/13   train_loss = 4.881\n",
      "Epoch   2 Batch    2/13   train_loss = 4.832\n",
      "Epoch   2 Batch    4/13   train_loss = 4.676\n",
      "Epoch   2 Batch    6/13   train_loss = 4.702\n",
      "Epoch   2 Batch    8/13   train_loss = 4.645\n",
      "Epoch   2 Batch   10/13   train_loss = 4.547\n",
      "Epoch   2 Batch   12/13   train_loss = 4.561\n",
      "Epoch   3 Batch    1/13   train_loss = 4.397\n",
      "Epoch   3 Batch    3/13   train_loss = 4.321\n",
      "Epoch   3 Batch    5/13   train_loss = 4.298\n",
      "Epoch   3 Batch    7/13   train_loss = 4.268\n",
      "Epoch   3 Batch    9/13   train_loss = 4.205\n",
      "Epoch   3 Batch   11/13   train_loss = 4.204\n",
      "Epoch   4 Batch    0/13   train_loss = 4.136\n",
      "Epoch   4 Batch    2/13   train_loss = 4.076\n",
      "Epoch   4 Batch    4/13   train_loss = 3.951\n",
      "Epoch   4 Batch    6/13   train_loss = 4.002\n",
      "Epoch   4 Batch    8/13   train_loss = 3.920\n",
      "Epoch   4 Batch   10/13   train_loss = 3.875\n",
      "Epoch   4 Batch   12/13   train_loss = 3.870\n",
      "Epoch   5 Batch    1/13   train_loss = 3.746\n",
      "Epoch   5 Batch    3/13   train_loss = 3.686\n",
      "Epoch   5 Batch    5/13   train_loss = 3.644\n",
      "Epoch   5 Batch    7/13   train_loss = 3.628\n",
      "Epoch   5 Batch    9/13   train_loss = 3.582\n",
      "Epoch   5 Batch   11/13   train_loss = 3.577\n",
      "Epoch   6 Batch    0/13   train_loss = 3.478\n",
      "Epoch   6 Batch    2/13   train_loss = 3.464\n",
      "Epoch   6 Batch    4/13   train_loss = 3.373\n",
      "Epoch   6 Batch    6/13   train_loss = 3.380\n",
      "Epoch   6 Batch    8/13   train_loss = 3.300\n",
      "Epoch   6 Batch   10/13   train_loss = 3.279\n",
      "Epoch   6 Batch   12/13   train_loss = 3.281\n",
      "Epoch   7 Batch    1/13   train_loss = 3.174\n",
      "Epoch   7 Batch    3/13   train_loss = 3.108\n",
      "Epoch   7 Batch    5/13   train_loss = 3.118\n",
      "Epoch   7 Batch    7/13   train_loss = 3.099\n",
      "Epoch   7 Batch    9/13   train_loss = 3.057\n",
      "Epoch   7 Batch   11/13   train_loss = 3.049\n",
      "Epoch   8 Batch    0/13   train_loss = 2.954\n",
      "Epoch   8 Batch    2/13   train_loss = 2.956\n",
      "Epoch   8 Batch    4/13   train_loss = 2.918\n",
      "Epoch   8 Batch    6/13   train_loss = 2.929\n",
      "Epoch   8 Batch    8/13   train_loss = 2.849\n",
      "Epoch   8 Batch   10/13   train_loss = 2.829\n",
      "Epoch   8 Batch   12/13   train_loss = 2.857\n",
      "Epoch   9 Batch    1/13   train_loss = 2.765\n",
      "Epoch   9 Batch    3/13   train_loss = 2.727\n",
      "Epoch   9 Batch    5/13   train_loss = 2.742\n",
      "Epoch   9 Batch    7/13   train_loss = 2.712\n",
      "Epoch   9 Batch    9/13   train_loss = 2.700\n",
      "Epoch   9 Batch   11/13   train_loss = 2.667\n",
      "Epoch  10 Batch    0/13   train_loss = 2.601\n",
      "Epoch  10 Batch    2/13   train_loss = 2.580\n",
      "Epoch  10 Batch    4/13   train_loss = 2.579\n",
      "Epoch  10 Batch    6/13   train_loss = 2.580\n",
      "Epoch  10 Batch    8/13   train_loss = 2.506\n",
      "Epoch  10 Batch   10/13   train_loss = 2.493\n",
      "Epoch  10 Batch   12/13   train_loss = 2.488\n",
      "Epoch  11 Batch    1/13   train_loss = 2.448\n",
      "Epoch  11 Batch    3/13   train_loss = 2.425\n",
      "Epoch  11 Batch    5/13   train_loss = 2.388\n",
      "Epoch  11 Batch    7/13   train_loss = 2.358\n",
      "Epoch  11 Batch    9/13   train_loss = 2.387\n",
      "Epoch  11 Batch   11/13   train_loss = 2.380\n",
      "Epoch  12 Batch    0/13   train_loss = 2.271\n",
      "Epoch  12 Batch    2/13   train_loss = 2.279\n",
      "Epoch  12 Batch    4/13   train_loss = 2.288\n",
      "Epoch  12 Batch    6/13   train_loss = 2.276\n",
      "Epoch  12 Batch    8/13   train_loss = 2.230\n",
      "Epoch  12 Batch   10/13   train_loss = 2.200\n",
      "Epoch  12 Batch   12/13   train_loss = 2.228\n",
      "Epoch  13 Batch    1/13   train_loss = 2.176\n",
      "Epoch  13 Batch    3/13   train_loss = 2.150\n",
      "Epoch  13 Batch    5/13   train_loss = 2.148\n",
      "Epoch  13 Batch    7/13   train_loss = 2.098\n",
      "Epoch  13 Batch    9/13   train_loss = 2.107\n",
      "Epoch  13 Batch   11/13   train_loss = 2.138\n",
      "Epoch  14 Batch    0/13   train_loss = 2.023\n",
      "Epoch  14 Batch    2/13   train_loss = 2.056\n",
      "Epoch  14 Batch    4/13   train_loss = 2.094\n",
      "Epoch  14 Batch    6/13   train_loss = 2.044\n",
      "Epoch  14 Batch    8/13   train_loss = 1.996\n",
      "Epoch  14 Batch   10/13   train_loss = 1.977\n",
      "Epoch  14 Batch   12/13   train_loss = 1.988\n",
      "Epoch  15 Batch    1/13   train_loss = 1.979\n",
      "Epoch  15 Batch    3/13   train_loss = 1.944\n",
      "Epoch  15 Batch    5/13   train_loss = 1.938\n",
      "Epoch  15 Batch    7/13   train_loss = 1.919\n",
      "Epoch  15 Batch    9/13   train_loss = 1.897\n",
      "Epoch  15 Batch   11/13   train_loss = 1.893\n",
      "Epoch  16 Batch    0/13   train_loss = 1.835\n",
      "Epoch  16 Batch    2/13   train_loss = 1.855\n",
      "Epoch  16 Batch    4/13   train_loss = 1.905\n",
      "Epoch  16 Batch    6/13   train_loss = 1.895\n",
      "Epoch  16 Batch    8/13   train_loss = 1.842\n",
      "Epoch  16 Batch   10/13   train_loss = 1.806\n",
      "Epoch  16 Batch   12/13   train_loss = 1.790\n",
      "Epoch  17 Batch    1/13   train_loss = 1.832\n",
      "Epoch  17 Batch    3/13   train_loss = 1.799\n",
      "Epoch  17 Batch    5/13   train_loss = 1.767\n",
      "Epoch  17 Batch    7/13   train_loss = 1.751\n",
      "Epoch  17 Batch    9/13   train_loss = 1.781\n",
      "Epoch  17 Batch   11/13   train_loss = 1.762\n",
      "Epoch  18 Batch    0/13   train_loss = 1.643\n",
      "Epoch  18 Batch    2/13   train_loss = 1.709\n",
      "Epoch  18 Batch    4/13   train_loss = 1.818\n",
      "Epoch  18 Batch    6/13   train_loss = 1.723\n",
      "Epoch  18 Batch    8/13   train_loss = 1.633\n",
      "Epoch  18 Batch   10/13   train_loss = 1.691\n",
      "Epoch  18 Batch   12/13   train_loss = 1.681\n",
      "Epoch  19 Batch    1/13   train_loss = 1.670\n",
      "Epoch  19 Batch    3/13   train_loss = 1.613\n",
      "Epoch  19 Batch    5/13   train_loss = 1.620\n",
      "Epoch  19 Batch    7/13   train_loss = 1.613\n",
      "Epoch  19 Batch    9/13   train_loss = 1.590\n",
      "Epoch  19 Batch   11/13   train_loss = 1.574\n",
      "Epoch  20 Batch    0/13   train_loss = 1.537\n",
      "Epoch  20 Batch    2/13   train_loss = 1.553\n",
      "Epoch  20 Batch    4/13   train_loss = 1.585\n",
      "Epoch  20 Batch    6/13   train_loss = 1.572\n",
      "Epoch  20 Batch    8/13   train_loss = 1.550\n",
      "Epoch  20 Batch   10/13   train_loss = 1.516\n",
      "Epoch  20 Batch   12/13   train_loss = 1.485\n",
      "Epoch  21 Batch    1/13   train_loss = 1.497\n",
      "Epoch  21 Batch    3/13   train_loss = 1.498\n",
      "Epoch  21 Batch    5/13   train_loss = 1.448\n",
      "Epoch  21 Batch    7/13   train_loss = 1.437\n",
      "Epoch  21 Batch    9/13   train_loss = 1.457\n",
      "Epoch  21 Batch   11/13   train_loss = 1.418\n",
      "Epoch  22 Batch    0/13   train_loss = 1.407\n",
      "Epoch  22 Batch    2/13   train_loss = 1.424\n",
      "Epoch  22 Batch    4/13   train_loss = 1.481\n",
      "Epoch  22 Batch    6/13   train_loss = 1.419\n",
      "Epoch  22 Batch    8/13   train_loss = 1.401\n",
      "Epoch  22 Batch   10/13   train_loss = 1.355\n",
      "Epoch  22 Batch   12/13   train_loss = 1.372\n",
      "Epoch  23 Batch    1/13   train_loss = 1.383\n",
      "Epoch  23 Batch    3/13   train_loss = 1.337\n",
      "Epoch  23 Batch    5/13   train_loss = 1.337\n",
      "Epoch  23 Batch    7/13   train_loss = 1.326\n",
      "Epoch  23 Batch    9/13   train_loss = 1.327\n",
      "Epoch  23 Batch   11/13   train_loss = 1.328\n",
      "Epoch  24 Batch    0/13   train_loss = 1.279\n",
      "Epoch  24 Batch    2/13   train_loss = 1.282\n",
      "Epoch  24 Batch    4/13   train_loss = 1.340\n",
      "Epoch  24 Batch    6/13   train_loss = 1.319\n",
      "Epoch  24 Batch    8/13   train_loss = 1.287\n",
      "Epoch  24 Batch   10/13   train_loss = 1.277\n",
      "Epoch  24 Batch   12/13   train_loss = 1.267\n",
      "Epoch  25 Batch    1/13   train_loss = 1.312\n",
      "Epoch  25 Batch    3/13   train_loss = 1.261\n",
      "Epoch  25 Batch    5/13   train_loss = 1.232\n",
      "Epoch  25 Batch    7/13   train_loss = 1.238\n",
      "Epoch  25 Batch    9/13   train_loss = 1.253\n",
      "Epoch  25 Batch   11/13   train_loss = 1.228\n",
      "Epoch  26 Batch    0/13   train_loss = 1.216\n",
      "Epoch  26 Batch    2/13   train_loss = 1.201\n",
      "Epoch  26 Batch    4/13   train_loss = 1.315\n",
      "Epoch  26 Batch    6/13   train_loss = 1.214\n",
      "Epoch  26 Batch    8/13   train_loss = 1.211\n",
      "Epoch  26 Batch   10/13   train_loss = 1.186\n",
      "Epoch  26 Batch   12/13   train_loss = 1.194\n",
      "Epoch  27 Batch    1/13   train_loss = 1.217\n",
      "Epoch  27 Batch    3/13   train_loss = 1.174\n",
      "Epoch  27 Batch    5/13   train_loss = 1.152\n",
      "Epoch  27 Batch    7/13   train_loss = 1.175\n",
      "Epoch  27 Batch    9/13   train_loss = 1.180\n",
      "Epoch  27 Batch   11/13   train_loss = 1.165\n",
      "Epoch  28 Batch    0/13   train_loss = 1.132\n"
     ]
    },
    {
     "name": "stdout",
     "output_type": "stream",
     "text": [
      "Epoch  28 Batch    2/13   train_loss = 1.151\n",
      "Epoch  28 Batch    4/13   train_loss = 1.222\n",
      "Epoch  28 Batch    6/13   train_loss = 1.169\n",
      "Epoch  28 Batch    8/13   train_loss = 1.152\n",
      "Epoch  28 Batch   10/13   train_loss = 1.129\n",
      "Epoch  28 Batch   12/13   train_loss = 1.111\n",
      "Epoch  29 Batch    1/13   train_loss = 1.156\n",
      "Epoch  29 Batch    3/13   train_loss = 1.112\n",
      "Epoch  29 Batch    5/13   train_loss = 1.102\n",
      "Epoch  29 Batch    7/13   train_loss = 1.114\n",
      "Epoch  29 Batch    9/13   train_loss = 1.100\n",
      "Epoch  29 Batch   11/13   train_loss = 1.116\n",
      "Epoch  30 Batch    0/13   train_loss = 1.051\n",
      "Epoch  30 Batch    2/13   train_loss = 1.076\n",
      "Epoch  30 Batch    4/13   train_loss = 1.179\n",
      "Epoch  30 Batch    6/13   train_loss = 1.091\n",
      "Epoch  30 Batch    8/13   train_loss = 1.091\n",
      "Epoch  30 Batch   10/13   train_loss = 1.078\n",
      "Epoch  30 Batch   12/13   train_loss = 1.111\n",
      "Epoch  31 Batch    1/13   train_loss = 1.087\n",
      "Epoch  31 Batch    3/13   train_loss = 1.055\n",
      "Epoch  31 Batch    5/13   train_loss = 1.059\n",
      "Epoch  31 Batch    7/13   train_loss = 1.037\n",
      "Epoch  31 Batch    9/13   train_loss = 1.072\n",
      "Epoch  31 Batch   11/13   train_loss = 1.062\n",
      "Epoch  32 Batch    0/13   train_loss = 1.002\n",
      "Epoch  32 Batch    2/13   train_loss = 1.041\n",
      "Epoch  32 Batch    4/13   train_loss = 1.058\n",
      "Epoch  32 Batch    6/13   train_loss = 1.030\n",
      "Epoch  32 Batch    8/13   train_loss = 1.045\n",
      "Epoch  32 Batch   10/13   train_loss = 1.024\n",
      "Epoch  32 Batch   12/13   train_loss = 1.016\n",
      "Epoch  33 Batch    1/13   train_loss = 1.039\n",
      "Epoch  33 Batch    3/13   train_loss = 0.994\n",
      "Epoch  33 Batch    5/13   train_loss = 0.976\n",
      "Epoch  33 Batch    7/13   train_loss = 0.966\n",
      "Epoch  33 Batch    9/13   train_loss = 0.979\n",
      "Epoch  33 Batch   11/13   train_loss = 0.994\n",
      "Epoch  34 Batch    0/13   train_loss = 0.971\n",
      "Epoch  34 Batch    2/13   train_loss = 0.964\n",
      "Epoch  34 Batch    4/13   train_loss = 1.006\n",
      "Epoch  34 Batch    6/13   train_loss = 1.003\n",
      "Epoch  34 Batch    8/13   train_loss = 0.991\n",
      "Epoch  34 Batch   10/13   train_loss = 0.973\n",
      "Epoch  34 Batch   12/13   train_loss = 0.984\n",
      "Epoch  35 Batch    1/13   train_loss = 0.983\n",
      "Epoch  35 Batch    3/13   train_loss = 0.943\n",
      "Epoch  35 Batch    5/13   train_loss = 0.912\n",
      "Epoch  35 Batch    7/13   train_loss = 0.960\n",
      "Epoch  35 Batch    9/13   train_loss = 0.960\n",
      "Epoch  35 Batch   11/13   train_loss = 0.944\n",
      "Epoch  36 Batch    0/13   train_loss = 0.913\n",
      "Epoch  36 Batch    2/13   train_loss = 0.937\n",
      "Epoch  36 Batch    4/13   train_loss = 0.970\n",
      "Epoch  36 Batch    6/13   train_loss = 0.952\n",
      "Epoch  36 Batch    8/13   train_loss = 0.964\n",
      "Epoch  36 Batch   10/13   train_loss = 0.956\n",
      "Epoch  36 Batch   12/13   train_loss = 0.942\n",
      "Epoch  37 Batch    1/13   train_loss = 0.936\n",
      "Epoch  37 Batch    3/13   train_loss = 0.908\n",
      "Epoch  37 Batch    5/13   train_loss = 0.908\n",
      "Epoch  37 Batch    7/13   train_loss = 0.922\n",
      "Epoch  37 Batch    9/13   train_loss = 0.923\n",
      "Epoch  37 Batch   11/13   train_loss = 0.939\n",
      "Epoch  38 Batch    0/13   train_loss = 0.888\n",
      "Epoch  38 Batch    2/13   train_loss = 0.894\n",
      "Epoch  38 Batch    4/13   train_loss = 0.958\n",
      "Epoch  38 Batch    6/13   train_loss = 0.961\n",
      "Epoch  38 Batch    8/13   train_loss = 0.945\n",
      "Epoch  38 Batch   10/13   train_loss = 0.914\n",
      "Epoch  38 Batch   12/13   train_loss = 0.931\n",
      "Epoch  39 Batch    1/13   train_loss = 0.924\n",
      "Epoch  39 Batch    3/13   train_loss = 0.894\n",
      "Epoch  39 Batch    5/13   train_loss = 0.900\n",
      "Epoch  39 Batch    7/13   train_loss = 0.905\n",
      "Epoch  39 Batch    9/13   train_loss = 0.929\n",
      "Epoch  39 Batch   11/13   train_loss = 0.914\n",
      "Epoch  40 Batch    0/13   train_loss = 0.865\n",
      "Epoch  40 Batch    2/13   train_loss = 0.892\n",
      "Epoch  40 Batch    4/13   train_loss = 0.981\n",
      "Epoch  40 Batch    6/13   train_loss = 0.967\n",
      "Epoch  40 Batch    8/13   train_loss = 0.935\n",
      "Epoch  40 Batch   10/13   train_loss = 0.899\n",
      "Epoch  40 Batch   12/13   train_loss = 0.934\n",
      "Epoch  41 Batch    1/13   train_loss = 0.948\n",
      "Epoch  41 Batch    3/13   train_loss = 0.890\n",
      "Epoch  41 Batch    5/13   train_loss = 0.878\n",
      "Epoch  41 Batch    7/13   train_loss = 0.902\n",
      "Epoch  41 Batch    9/13   train_loss = 0.914\n",
      "Epoch  41 Batch   11/13   train_loss = 0.892\n",
      "Epoch  42 Batch    0/13   train_loss = 0.877\n",
      "Epoch  42 Batch    2/13   train_loss = 0.889\n",
      "Epoch  42 Batch    4/13   train_loss = 0.956\n",
      "Epoch  42 Batch    6/13   train_loss = 0.912\n",
      "Epoch  42 Batch    8/13   train_loss = 0.913\n",
      "Epoch  42 Batch   10/13   train_loss = 0.944\n",
      "Epoch  42 Batch   12/13   train_loss = 0.878\n",
      "Epoch  43 Batch    1/13   train_loss = 0.885\n",
      "Epoch  43 Batch    3/13   train_loss = 0.879\n",
      "Epoch  43 Batch    5/13   train_loss = 0.884\n",
      "Epoch  43 Batch    7/13   train_loss = 0.871\n",
      "Epoch  43 Batch    9/13   train_loss = 0.887\n",
      "Epoch  43 Batch   11/13   train_loss = 0.884\n",
      "Epoch  44 Batch    0/13   train_loss = 0.874\n",
      "Epoch  44 Batch    2/13   train_loss = 0.837\n",
      "Epoch  44 Batch    4/13   train_loss = 0.897\n",
      "Epoch  44 Batch    6/13   train_loss = 0.902\n",
      "Epoch  44 Batch    8/13   train_loss = 0.906\n",
      "Epoch  44 Batch   10/13   train_loss = 0.865\n",
      "Epoch  44 Batch   12/13   train_loss = 0.854\n",
      "Epoch  45 Batch    1/13   train_loss = 0.884\n",
      "Epoch  45 Batch    3/13   train_loss = 0.829\n",
      "Epoch  45 Batch    5/13   train_loss = 0.826\n",
      "Epoch  45 Batch    7/13   train_loss = 0.848\n",
      "Epoch  45 Batch    9/13   train_loss = 0.859\n",
      "Epoch  45 Batch   11/13   train_loss = 0.841\n",
      "Epoch  46 Batch    0/13   train_loss = 0.800\n",
      "Epoch  46 Batch    2/13   train_loss = 0.825\n",
      "Epoch  46 Batch    4/13   train_loss = 0.880\n",
      "Epoch  46 Batch    6/13   train_loss = 0.849\n",
      "Epoch  46 Batch    8/13   train_loss = 0.834\n",
      "Epoch  46 Batch   10/13   train_loss = 0.833\n",
      "Epoch  46 Batch   12/13   train_loss = 0.828\n",
      "Epoch  47 Batch    1/13   train_loss = 0.840\n",
      "Epoch  47 Batch    3/13   train_loss = 0.789\n",
      "Epoch  47 Batch    5/13   train_loss = 0.805\n",
      "Epoch  47 Batch    7/13   train_loss = 0.803\n",
      "Epoch  47 Batch    9/13   train_loss = 0.809\n",
      "Epoch  47 Batch   11/13   train_loss = 0.793\n",
      "Epoch  48 Batch    0/13   train_loss = 0.778\n",
      "Epoch  48 Batch    2/13   train_loss = 0.804\n",
      "Epoch  48 Batch    4/13   train_loss = 0.850\n",
      "Epoch  48 Batch    6/13   train_loss = 0.816\n",
      "Epoch  48 Batch    8/13   train_loss = 0.815\n",
      "Epoch  48 Batch   10/13   train_loss = 0.806\n",
      "Epoch  48 Batch   12/13   train_loss = 0.833\n",
      "Epoch  49 Batch    1/13   train_loss = 0.836\n",
      "Epoch  49 Batch    3/13   train_loss = 0.803\n",
      "Epoch  49 Batch    5/13   train_loss = 0.786\n",
      "Epoch  49 Batch    7/13   train_loss = 0.760\n",
      "Epoch  49 Batch    9/13   train_loss = 0.805\n",
      "Epoch  49 Batch   11/13   train_loss = 0.791\n",
      "Model Trained and Saved\n"
     ]
    }
   ],
   "source": [
    "\n",
    "batches = get_batches(int_text, batch_size, seq_length)\n",
    "\n",
    "with tf.Session(graph=train_graph) as sess:\n",
    "    sess.run(tf.global_variables_initializer())\n",
    "\n",
    "    for epoch_i in range(num_epochs):\n",
    "        state = sess.run(initial_state, {input_text: batches[0][0]})\n",
    "\n",
    "        for batch_i, (x, y) in enumerate(batches):\n",
    "            feed = {\n",
    "                input_text: x,\n",
    "                targets: y,\n",
    "                initial_state: state,\n",
    "                lr: learning_rate}\n",
    "            train_loss, state, _ = sess.run([cost, final_state, train_op], feed)\n",
    "\n",
    "            # Show every <show_every_n_batches> batches\n",
    "            if (epoch_i * len(batches) + batch_i) % show_every_n_batches == 0:\n",
    "                print('Epoch {:>3} Batch {:>4}/{}   train_loss = {:.3f}'.format(\n",
    "                    epoch_i,\n",
    "                    batch_i,\n",
    "                    len(batches),\n",
    "                    train_loss))\n",
    "\n",
    "    # Save Model\n",
    "    saver = tf.train.Saver()\n",
    "    saver.save(sess, save_dir)\n",
    "    print('Model Trained and Saved')"
   ]
  },
  {
   "cell_type": "markdown",
   "metadata": {},
   "source": [
    "## Save Parameters\n"
   ]
  },
  {
   "cell_type": "code",
   "execution_count": 44,
   "metadata": {
    "collapsed": true
   },
   "outputs": [],
   "source": [
    "\n",
    "# Save parameters for checkpoint\n",
    "helper.save_params((seq_length, save_dir))"
   ]
  },
  {
   "cell_type": "markdown",
   "metadata": {},
   "source": [
    "## Implement Generate Functions\n",
    "### Get Tensors\n"
   ]
  },
  {
   "cell_type": "code",
   "execution_count": 16,
   "metadata": {},
   "outputs": [],
   "source": [
    "def get_tensors(loaded_graph):\n",
    "\n",
    "    input_0 = loaded_graph.get_tensor_by_name('input:0')\n",
    "    initial_state_0 = loaded_graph.get_tensor_by_name('initial_state:0')\n",
    "    final_state_0 = loaded_graph.get_tensor_by_name('final_state:0')\n",
    "    probs_0 = loaded_graph.get_tensor_by_name('probs:0')\n",
    "    return input_0, initial_state_0, final_state_0, probs_0\n"
   ]
  },
  {
   "cell_type": "markdown",
   "metadata": {},
   "source": [
    "### Choose Word\n"
   ]
  },
  {
   "cell_type": "code",
   "execution_count": 17,
   "metadata": {},
   "outputs": [],
   "source": [
    "def pick_word(probabilities, int_to_vocab):\n",
    "\n",
    "    max_idx=np.argmax(probabilities)\n",
    "    return int_to_vocab[max_idx]\n"
   ]
  },
  {
   "cell_type": "markdown",
   "metadata": {},
   "source": [
    "## Generate TV Script"
   ]
  },
  {
   "cell_type": "code",
   "execution_count": 48,
   "metadata": {},
   "outputs": [
    {
     "name": "stdout",
     "output_type": "stream",
     "text": [
      "INFO:tensorflow:Restoring parameters from ./save\n",
      "moe_szyslak:(uneasy) i gotta admit, moe!\n",
      "homer_simpson: what's the matter, homer?\n",
      "homer_simpson:(explaining) part of my new bartender.\n",
      "homer_simpson:(shaking head) no, i won't accept that beer.\n",
      "moe_szyslak:(incredulous) homer? you got it. i know why i made a mistake i just wanted a bottle like a pal outta.\n",
      "moe_szyslak:(worried) oh, i don't think maybe i work for a dude.(chuckle) do i look at this bad guy. eh, i'm a little more sensitivity right on, i'll / i do to this bar.\n",
      "homer_simpson:(on phone) boy, i can make it happen?\n",
      "moe_szyslak:(terrified) what the?\n",
      "moe_szyslak: hey, homer. look at me. i'm attracted to another woman and then tonight. but here's one that's even more spellbinding. once there!\n",
      "moe_szyslak:\" no acronyms!\" had off to inspired.\"\n",
      "carl_carlson: is that a lot of things you do?\n",
      "lenny_leonard: say, homer. no doubt\n"
     ]
    }
   ],
   "source": [
    "gen_length = 200\n",
    "# homer_simpson, moe_szyslak, or Barney_Gumble\n",
    "prime_word = 'moe_szyslak'\n",
    "\n",
    "\n",
    "loaded_graph = tf.Graph()\n",
    "with tf.Session(graph=loaded_graph) as sess:\n",
    "    # Load saved model\n",
    "    loader = tf.train.import_meta_graph(load_dir + '.meta')\n",
    "    loader.restore(sess, load_dir)\n",
    "\n",
    "    # Get Tensors from loaded model\n",
    "    input_text, initial_state, final_state, probs = get_tensors(loaded_graph)\n",
    "\n",
    "    # Sentences generation setup\n",
    "    gen_sentences = [prime_word + ':']\n",
    "    prev_state = sess.run(initial_state, {input_text: np.array([[1]])})\n",
    "\n",
    "    # Generate sentences\n",
    "    for n in range(gen_length):\n",
    "        # Dynamic Input\n",
    "        dyn_input = [[vocab_to_int[word] for word in gen_sentences[-seq_length:]]]\n",
    "        dyn_seq_length = len(dyn_input[0])\n",
    "\n",
    "        # Get Prediction\n",
    "        probabilities, prev_state = sess.run(\n",
    "            [probs, final_state],\n",
    "            {input_text: dyn_input, initial_state: prev_state})\n",
    "        \n",
    "        pred_word = pick_word(probabilities[dyn_seq_length-1], int_to_vocab)\n",
    "\n",
    "        gen_sentences.append(pred_word)\n",
    "    \n",
    "    # Remove tokens\n",
    "    tv_script = ' '.join(gen_sentences)\n",
    "    for key, token in token_dict.items():\n",
    "        ending = ' ' if key in ['\\n', '(', '\"'] else ''\n",
    "        tv_script = tv_script.replace(' ' + token.lower(), key)\n",
    "    tv_script = tv_script.replace('\\n ', '\\n')\n",
    "    tv_script = tv_script.replace('( ', '(')\n",
    "        \n",
    "    print(tv_script)"
   ]
  }
 ],
 "metadata": {
  "kernelspec": {
   "display_name": "Python 3",
   "language": "python",
   "name": "python3"
  },
  "language_info": {
   "codemirror_mode": {
    "name": "ipython",
    "version": 3
   },
   "file_extension": ".py",
   "mimetype": "text/x-python",
   "name": "python",
   "nbconvert_exporter": "python",
   "pygments_lexer": "ipython3",
   "version": "3.5.3"
  },
  "widgets": {
   "state": {},
   "version": "1.1.2"
  }
 },
 "nbformat": 4,
 "nbformat_minor": 1
}
